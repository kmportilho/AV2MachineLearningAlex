{
  "cells": [
    {
      "metadata": {
        "id": "z1VDvmXmFQ2N",
        "colab_type": "text"
      },
      "cell_type": "markdown",
      "source": "DISCIPLINA: Gestão do Conhecimento\t PROFESSOR(A): Alex Salgado\nPERÍODO: 7o. TURNO: noite AVALIAÇÃO:\n\nALUNO(A): _\n\nGRAU: VISTO DO PROFESSOR:\n"
    },
    {
      "metadata": {
        "id": "FTavpPQuFQ2O",
        "colab_type": "text"
      },
      "cell_type": "markdown",
      "source": "# Questão 1 - valor (1,0)\n"
    },
    {
      "metadata": {
        "id": "pqW6xVSeFQ2P",
        "colab_type": "text"
      },
      "cell_type": "markdown",
      "source": "*** Crie um repositório no Github e adicione este arquivo no mesmo\n\n\n1.1 - Você deve escolher uma base de dados aberta que seja possível treinar um modelo de aprendizagem de máquina Supervisionado de Classificação (assim como o exemplo da Iris e Cancer). A partir desta base de dados, você vai treinar o modelo, fazer previsões e calcular a acurácia do mesmo.\nObs.: Não utilizar nenhuma base de dados usada em aula ou nos trabalhos.\nAs bases de dados não poderá ser igual a do seu colega, dessa forma, preencha a planilha abaixo dizendo a sua base e seu tema. \nhttps://forms.gle/CvmN5fr4u2g5zoZRA\n\n\n** Para saber se já escolheram o mesmo que você, consulte no link abaixo.\nhttps://docs.google.com/spreadsheets/d/1E_GuH7C8vn_o-gyOeN5LavoQlByjVQb1UiVfP71OX3g/edit?usp=sharing\n"
    },
    {
      "metadata": {
        "id": "TTTioedgFQ2R",
        "colab_type": "code",
        "colab": {}
      },
      "cell_type": "markdown",
      "source": "# Nome: Karolyne Pontes Marchon Portilho"
    },
    {
      "metadata": {
        "id": "dIrNzx2zFQ2V",
        "colab_type": "text"
      },
      "cell_type": "markdown",
      "source": "1.2 - Após tratada, criar uma pasta no seu GoogleDrive e disponibilizar o link do arquivo de sua base (csv, xlsx, etc) para ser importado no seu código."
    },
    {
      "metadata": {
        "id": "yJa2TU4OFQ2W",
        "colab_type": "code",
        "colab": {},
        "trusted": true
      },
      "cell_type": "code",
      "source": "# https://www.kaggle.com/shwetabh123/mall-customers          ",
      "execution_count": 101,
      "outputs": []
    },
    {
      "metadata": {},
      "cell_type": "markdown",
      "source": "                  #Link da tabela no github"
    },
    {
      "metadata": {},
      "cell_type": "markdown",
      "source": "https://github.com/kmportilho/AV2MachineLearningAlex/blob/master/Mall_Customers.csv"
    },
    {
      "metadata": {
        "trusted": true
      },
      "cell_type": "code",
      "source": "# Database - Mall_Customers.csv",
      "execution_count": 1,
      "outputs": []
    },
    {
      "metadata": {
        "id": "CdRkryOFFQ2Z",
        "colab_type": "text"
      },
      "cell_type": "markdown",
      "source": "## Criar um código usando o Jupyter Notebook e responder (através de código) às seguintes questões:\n"
    },
    {
      "metadata": {
        "id": "iFRgTfVUFQ2a",
        "colab_type": "text"
      },
      "cell_type": "markdown",
      "source": "# Questão 2 - valor (1,0)"
    },
    {
      "metadata": {
        "id": "3DgLKm9IFQ2c",
        "colab_type": "text"
      },
      "cell_type": "markdown",
      "source": "2.1 - Importar os modulos python para machine learn e carregar o arquivo \n\n** Sugestão se for do tipo xlsx, usar o read_excel do pandas\nimport pandas as pd\ndt = pd.read_excel(\"meuarquivo.xlsx\")\n"
    },
    {
      "metadata": {
        "id": "sW2NqZpsFQ2d",
        "colab_type": "code",
        "colab": {},
        "trusted": true
      },
      "cell_type": "code",
      "source": "import pandas as pd\nfrom sklearn.preprocessing import LabelEncoder\nfrom sklearn.linear_model import LogisticRegression\nfrom sklearn.neighbors import KNeighborsClassifier\nfrom sklearn import metrics\nmall = pd.read_csv('Mall_Customers.csv',engine='python', sep=',')",
      "execution_count": 2,
      "outputs": []
    },
    {
      "metadata": {
        "id": "w3wStU9eFQ2h",
        "colab_type": "text"
      },
      "cell_type": "markdown",
      "source": "2.2 - Exibir os primeiros registros desta tabela.\n"
    },
    {
      "metadata": {
        "id": "NWtUdtxpFQ2i",
        "colab_type": "code",
        "colab": {},
        "trusted": true
      },
      "cell_type": "code",
      "source": "mall.head()",
      "execution_count": 3,
      "outputs": [
        {
          "output_type": "execute_result",
          "execution_count": 3,
          "data": {
            "text/html": "<div>\n<table border=\"1\" class=\"dataframe\">\n  <thead>\n    <tr style=\"text-align: right;\">\n      <th></th>\n      <th>CustomerID</th>\n      <th>Gender</th>\n      <th>Age</th>\n      <th>Annual Income (k$)</th>\n      <th>Spending Score (1-100)</th>\n    </tr>\n  </thead>\n  <tbody>\n    <tr>\n      <th>0</th>\n      <td>1</td>\n      <td>Male</td>\n      <td>19</td>\n      <td>15</td>\n      <td>39</td>\n    </tr>\n    <tr>\n      <th>1</th>\n      <td>2</td>\n      <td>Male</td>\n      <td>21</td>\n      <td>15</td>\n      <td>81</td>\n    </tr>\n    <tr>\n      <th>2</th>\n      <td>3</td>\n      <td>Female</td>\n      <td>20</td>\n      <td>16</td>\n      <td>6</td>\n    </tr>\n    <tr>\n      <th>3</th>\n      <td>4</td>\n      <td>Female</td>\n      <td>23</td>\n      <td>16</td>\n      <td>77</td>\n    </tr>\n    <tr>\n      <th>4</th>\n      <td>5</td>\n      <td>Female</td>\n      <td>31</td>\n      <td>17</td>\n      <td>40</td>\n    </tr>\n  </tbody>\n</table>\n</div>",
            "text/plain": "   CustomerID  Gender  Age  Annual Income (k$)  Spending Score (1-100)\n0           1    Male   19                  15                      39\n1           2    Male   21                  15                      81\n2           3  Female   20                  16                       6\n3           4  Female   23                  16                      77\n4           5  Female   31                  17                      40"
          },
          "metadata": {}
        }
      ]
    },
    {
      "metadata": {
        "id": "wcCFZ-92FQ2l",
        "colab_type": "text"
      },
      "cell_type": "markdown",
      "source": "2.3 - De que se trata esse banco de dados? e que tipo de previsão pode ser feito com ele?\n"
    },
    {
      "metadata": {
        "id": "rTGwMW45FQ2m",
        "colab_type": "code",
        "colab": {},
        "trusted": true
      },
      "cell_type": "code",
      "source": "#Identificação do Cliente, Sexo, Idade, Renda Anual (k $), Pontuação de Gastos (1-100)\nprint('\\nInformções das tabelas\\n')\nmall.info() \nprint('\\nChaves\\n')\nprint('\\n------------------------------------------------------------------------\\n')\nprint(\"mall.keys(): \\n{}\".format(mall.keys()))",
      "execution_count": 4,
      "outputs": [
        {
          "output_type": "stream",
          "text": "\nInformções das tabelas\n\n<class 'pandas.core.frame.DataFrame'>\nRangeIndex: 200 entries, 0 to 199\nData columns (total 5 columns):\nCustomerID                200 non-null int64\nGender                    200 non-null object\nAge                       200 non-null int64\nAnnual Income (k$)        200 non-null int64\nSpending Score (1-100)    200 non-null int64\ndtypes: int64(4), object(1)\nmemory usage: 7.9+ KB\n\nChaves\n\n\n------------------------------------------------------------------------\n\nmall.keys(): \nIndex(['CustomerID', 'Gender', 'Age', 'Annual Income (k$)',\n       'Spending Score (1-100)'],\n      dtype='object')\n",
          "name": "stdout"
        }
      ]
    },
    {
      "metadata": {
        "id": "a1_uJWJ3FQ2p",
        "colab_type": "text"
      },
      "cell_type": "markdown",
      "source": "# Questão 3 - valor (0,5)\n"
    },
    {
      "metadata": {
        "id": "OwBUy5d_FQ2q",
        "colab_type": "text"
      },
      "cell_type": "markdown",
      "source": "Utilizando as terminologias de Machine Learning(features e observações):\n\n"
    },
    {
      "metadata": {
        "id": "6Fq8doCuFQ2s",
        "colab_type": "text"
      },
      "cell_type": "markdown",
      "source": "3.1 - Quantas \"features\" têm nessa base de dados?"
    },
    {
      "metadata": {
        "id": "UTin76bTFQ2t",
        "colab_type": "code",
        "colab": {},
        "trusted": true
      },
      "cell_type": "code",
      "source": "print('\\nFeatures\\n')\nmall.columns",
      "execution_count": 5,
      "outputs": [
        {
          "output_type": "stream",
          "text": "\nFeatures\n\n",
          "name": "stdout"
        },
        {
          "output_type": "execute_result",
          "execution_count": 5,
          "data": {
            "text/plain": "Index(['CustomerID', 'Gender', 'Age', 'Annual Income (k$)',\n       'Spending Score (1-100)'],\n      dtype='object')"
          },
          "metadata": {}
        }
      ]
    },
    {
      "metadata": {
        "id": "rUnYDZCwFQ2x",
        "colab_type": "text"
      },
      "cell_type": "markdown",
      "source": "3.2 - Quantas observações têm nessa base de dados?\n"
    },
    {
      "metadata": {
        "trusted": true
      },
      "cell_type": "code",
      "source": "print('\\nLinhas e colunas\\n')\nmall.shape",
      "execution_count": 6,
      "outputs": [
        {
          "output_type": "stream",
          "text": "\nLinhas e colunas\n\n",
          "name": "stdout"
        },
        {
          "output_type": "execute_result",
          "execution_count": 6,
          "data": {
            "text/plain": "(200, 5)"
          },
          "metadata": {}
        }
      ]
    },
    {
      "metadata": {
        "id": "1XU3RCwLFQ22",
        "colab_type": "text"
      },
      "cell_type": "markdown",
      "source": "# Questão 4 - valor (1,5)\n"
    },
    {
      "metadata": {
        "id": "e8JSKhvRFQ23",
        "colab_type": "text"
      },
      "cell_type": "markdown",
      "source": "4.1 - Faça uma previsão, usando o algoritmo de LogisticRegression.\n"
    },
    {
      "metadata": {
        "id": "j6aJ8ogMFQ24",
        "colab_type": "code",
        "colab": {},
        "trusted": true
      },
      "cell_type": "code",
      "source": "le = LabelEncoder()\nmall2 = mall.apply(le.fit_transform)",
      "execution_count": 7,
      "outputs": []
    },
    {
      "metadata": {
        "trusted": true
      },
      "cell_type": "code",
      "source": "X = mall2.drop('Annual Income (k$)', axis=1)\ny = mall2['Annual Income (k$)']",
      "execution_count": 8,
      "outputs": []
    },
    {
      "metadata": {
        "id": "wOdWbKVHFQ27",
        "colab_type": "text"
      },
      "cell_type": "markdown",
      "source": "# Questão 5 - valor (2,0)\n"
    },
    {
      "metadata": {
        "id": "iV4GEcQgFQ28",
        "colab_type": "text"
      },
      "cell_type": "markdown",
      "source": "Usando o método de avaliação de acurácia (Treinar e testar na base de dados inteira/Train test entire model), Calcular a acurácia de cada um dos 3 métodos abaixo."
    },
    {
      "metadata": {
        "id": "wLfLpF8EFQ29",
        "colab_type": "text"
      },
      "cell_type": "markdown",
      "source": "4.1 - Acurácia usando o algoritmo de KNN (com 1 vizinho, k=1)\n"
    },
    {
      "metadata": {
        "id": "895f18h6FQ2-",
        "colab_type": "code",
        "colab": {},
        "trusted": true
      },
      "cell_type": "code",
      "source": "knn = KNeighborsClassifier(n_neighbors=1)\nknn.fit(X, y)\ny_pred = knn.predict(X)\nprint(metrics.accuracy_score(y, y_pred))",
      "execution_count": 9,
      "outputs": [
        {
          "output_type": "stream",
          "text": "1.0\n",
          "name": "stdout"
        }
      ]
    },
    {
      "metadata": {
        "id": "JWLisp6yFQ3B",
        "colab_type": "text"
      },
      "cell_type": "markdown",
      "source": "4.2 - Acurácia usando o algoritmo de KNN (com 5 vizinho, k=5)\n"
    },
    {
      "metadata": {
        "id": "W1K_uk1qFQ3C",
        "colab_type": "code",
        "colab": {},
        "trusted": true
      },
      "cell_type": "code",
      "source": "\nknn = KNeighborsClassifier(n_neighbors=5)\nknn.fit(X, y)\ny_pred = knn.predict(X)\nprint(metrics.accuracy_score(y, y_pred))",
      "execution_count": 10,
      "outputs": [
        {
          "output_type": "stream",
          "text": "0.43\n",
          "name": "stdout"
        }
      ]
    },
    {
      "metadata": {
        "id": "JDF8PM_8FQ3F",
        "colab_type": "text"
      },
      "cell_type": "markdown",
      "source": "4.3 - Acurácia usando o algoritmo de LogisticRegression\n"
    },
    {
      "metadata": {
        "id": "dC7Ib97OFQ3G",
        "colab_type": "code",
        "colab": {},
        "trusted": true
      },
      "cell_type": "code",
      "source": "logreg = LogisticRegression()\nlogreg.fit(X, y)\nlogreg.predict(X)",
      "execution_count": 11,
      "outputs": [
        {
          "output_type": "execute_result",
          "execution_count": 11,
          "data": {
            "text/plain": "array([ 0,  0,  1,  4,  4,  4,  4,  4,  4,  4,  4,  4,  4,  5, 27, 27, 27,\n       27, 27, 27, 27, 27, 27, 27, 27, 27, 27, 27, 27, 27, 27, 27, 27, 27,\n       27, 27, 27, 27, 27, 27, 27, 27, 27, 27, 27, 27, 27, 27, 27, 27, 27,\n       27, 27, 27, 27, 27, 27, 27, 27, 27, 27, 27, 27, 27, 27, 27, 27, 27,\n       27, 27, 27, 27, 27, 27, 27, 27, 27, 27, 47, 27, 27, 27, 27, 27, 47,\n       27, 27, 47, 47, 27, 27, 52, 27, 47, 47, 52, 27, 47, 27, 52, 47, 27,\n       27, 47, 27, 47, 27, 27, 27, 27, 27, 47, 47, 52, 47, 47, 34, 27, 47,\n       27, 47, 47, 47, 27, 47, 47, 27, 27, 34, 27, 40, 27, 47, 47, 52, 47,\n       47, 47, 52, 47, 47, 47, 47, 47, 52, 47, 47, 47, 47, 47, 47, 47, 47,\n       47, 47, 47, 47, 47, 47, 47, 47, 47, 52, 47, 47, 47, 47, 47, 47, 47,\n       47, 47, 47, 47, 47, 47, 47, 47, 47, 47, 47, 47, 47, 47, 47, 47, 47,\n       47, 47, 47, 47, 47, 47, 47, 47, 47, 47, 47, 47, 47])"
          },
          "metadata": {}
        }
      ]
    },
    {
      "metadata": {
        "trusted": true
      },
      "cell_type": "code",
      "source": "y_pred = logreg.predict(X)\nlen(y_pred)",
      "execution_count": 12,
      "outputs": [
        {
          "output_type": "execute_result",
          "execution_count": 12,
          "data": {
            "text/plain": "200"
          },
          "metadata": {}
        }
      ]
    },
    {
      "metadata": {
        "trusted": true
      },
      "cell_type": "code",
      "source": "print(metrics.accuracy_score(y, y_pred))",
      "execution_count": 13,
      "outputs": [
        {
          "output_type": "stream",
          "text": "0.155\n",
          "name": "stdout"
        }
      ]
    },
    {
      "metadata": {
        "id": "qut1PJTRFQ3J",
        "colab_type": "text"
      },
      "cell_type": "markdown",
      "source": "4.4 - De acordo com seus resultados anteriores, qual dos 3 métodos é mais eficiente?\n"
    },
    {
      "metadata": {
        "trusted": true
      },
      "cell_type": "markdown",
      "source": "# Resosta: KNN(5)"
    },
    {
      "metadata": {
        "id": "UQ1ORkwqFQ3N",
        "colab_type": "code",
        "colab": {},
        "trusted": true
      },
      "cell_type": "code",
      "source": "*** Envie o link do seu Github com essa resposta no Classroom\n",
      "execution_count": 14,
      "outputs": [
        {
          "output_type": "error",
          "ename": "SyntaxError",
          "evalue": "invalid syntax (<ipython-input-14-aefe51b35da2>, line 1)",
          "traceback": [
            "\u001b[0;36m  File \u001b[0;32m\"<ipython-input-14-aefe51b35da2>\"\u001b[0;36m, line \u001b[0;32m1\u001b[0m\n\u001b[0;31m    *** Envie o link do seu Github com essa resposta no Classroom\u001b[0m\n\u001b[0m     ^\u001b[0m\n\u001b[0;31mSyntaxError\u001b[0m\u001b[0;31m:\u001b[0m invalid syntax\n"
          ]
        }
      ]
    }
  ],
  "metadata": {
    "colab": {
      "name": "Prova AV2 - Gestão do Conhecimento.ipynb",
      "version": "0.3.2",
      "provenance": []
    },
    "language_info": {
      "mimetype": "text/x-python",
      "nbconvert_exporter": "python",
      "name": "python",
      "file_extension": ".py",
      "version": "3.5.4",
      "pygments_lexer": "ipython3",
      "codemirror_mode": {
        "version": 3,
        "name": "ipython"
      }
    },
    "kernelspec": {
      "name": "python3",
      "display_name": "Python 3",
      "language": "python"
    }
  },
  "nbformat": 4,
  "nbformat_minor": 1
}