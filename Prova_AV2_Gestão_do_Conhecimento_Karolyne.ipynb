{
  "nbformat": 4,
  "nbformat_minor": 0,
  "metadata": {
    "colab": {
      "name": "Prova AV2 - Gestão do Conhecimento.ipynb",
      "version": "0.3.2",
      "provenance": []
    },
    "language_info": {
      "codemirror_mode": {
        "name": "ipython",
        "version": 3
      },
      "file_extension": ".py",
      "mimetype": "text/x-python",
      "name": "python",
      "nbconvert_exporter": "python",
      "pygments_lexer": "ipython3",
      "version": "3.7.2"
    },
    "kernelspec": {
      "display_name": "Python 3",
      "language": "python",
      "name": "python3"
    }
  },
  "cells": [
    {
      "cell_type": "markdown",
      "metadata": {
        "id": "z1VDvmXmFQ2N",
        "colab_type": "text"
      },
      "source": [
        "DISCIPLINA: Gestão do Conhecimento\t PROFESSOR(A): Alex Salgado\n",
        "PERÍODO: 7o. TURNO: noite AVALIAÇÃO:\n",
        "\n",
        "ALUNO(A): _\n",
        "\n",
        "GRAU: VISTO DO PROFESSOR:\n"
      ]
    },
    {
      "cell_type": "markdown",
      "metadata": {
        "id": "FTavpPQuFQ2O",
        "colab_type": "text"
      },
      "source": [
        "# Questão 1 - valor (1,0)\n"
      ]
    },
    {
      "cell_type": "markdown",
      "metadata": {
        "id": "pqW6xVSeFQ2P",
        "colab_type": "text"
      },
      "source": [
        "*** Crie um repositório no Github e adicione este arquivo no mesmo\n",
        "\n",
        "\n",
        "1.1 - Você deve escolher uma base de dados aberta que seja possível treinar um modelo de aprendizagem de máquina Supervisionado de Classificação (assim como o exemplo da Iris e Cancer). A partir desta base de dados, você vai treinar o modelo, fazer previsões e calcular a acurácia do mesmo.\n",
        "Obs.: Não utilizar nenhuma base de dados usada em aula ou nos trabalhos.\n",
        "As bases de dados não poderá ser igual a do seu colega, dessa forma, preencha a planilha abaixo dizendo a sua base e seu tema. \n",
        "https://forms.gle/CvmN5fr4u2g5zoZRA\n",
        "\n",
        "\n",
        "** Para saber se já escolheram o mesmo que você, consulte no link abaixo.\n",
        "https://docs.google.com/spreadsheets/d/1E_GuH7C8vn_o-gyOeN5LavoQlByjVQb1UiVfP71OX3g/edit?usp=sharing\n"
      ]
    },
    {
      "cell_type": "code",
      "metadata": {
        "id": "TTTioedgFQ2R",
        "colab_type": "code",
        "colab": {}
      },
      "source": [
        ""
      ],
      "execution_count": 0,
      "outputs": []
    },
    {
      "cell_type": "markdown",
      "metadata": {
        "id": "dIrNzx2zFQ2V",
        "colab_type": "text"
      },
      "source": [
        "1.2 - Após tratada, criar uma pasta no seu GoogleDrive e disponibilizar o link do arquivo de sua base (csv, xlsx, etc) para ser importado no seu código."
      ]
    },
    {
      "cell_type": "code",
      "metadata": {
        "id": "yJa2TU4OFQ2W",
        "colab_type": "code",
        "colab": {}
      },
      "source": [
        ""
      ],
      "execution_count": 0,
      "outputs": []
    },
    {
      "cell_type": "markdown",
      "metadata": {
        "id": "CdRkryOFFQ2Z",
        "colab_type": "text"
      },
      "source": [
        "## Criar um código usando o Jupyter Notebook e responder (através de código) às seguintes questões:\n"
      ]
    },
    {
      "cell_type": "markdown",
      "metadata": {
        "id": "iFRgTfVUFQ2a",
        "colab_type": "text"
      },
      "source": [
        "# Questão 2 - valor (1,0)"
      ]
    },
    {
      "cell_type": "markdown",
      "metadata": {
        "id": "3DgLKm9IFQ2c",
        "colab_type": "text"
      },
      "source": [
        "2.1 - Importar os modulos python para machine learn e carregar o arquivo \n",
        "\n",
        "** Sugestão se for do tipo xlsx, usar o read_excel do pandas\n",
        "import pandas as pd\n",
        "dt = pd.read_excel(\"meuarquivo.xlsx\")\n"
      ]
    },
    {
      "cell_type": "code",
      "metadata": {
        "id": "sW2NqZpsFQ2d",
        "colab_type": "code",
        "colab": {}
      },
      "source": [
        ""
      ],
      "execution_count": 0,
      "outputs": []
    },
    {
      "cell_type": "markdown",
      "metadata": {
        "id": "w3wStU9eFQ2h",
        "colab_type": "text"
      },
      "source": [
        "2.2 - Exibir os primeiros registros desta tabela.\n"
      ]
    },
    {
      "cell_type": "code",
      "metadata": {
        "id": "NWtUdtxpFQ2i",
        "colab_type": "code",
        "colab": {}
      },
      "source": [
        ""
      ],
      "execution_count": 0,
      "outputs": []
    },
    {
      "cell_type": "markdown",
      "metadata": {
        "id": "wcCFZ-92FQ2l",
        "colab_type": "text"
      },
      "source": [
        "2.3 - De que se trata esse banco de dados? e que tipo de previsão pode ser feito com ele?\n"
      ]
    },
    {
      "cell_type": "code",
      "metadata": {
        "id": "rTGwMW45FQ2m",
        "colab_type": "code",
        "colab": {}
      },
      "source": [
        ""
      ],
      "execution_count": 0,
      "outputs": []
    },
    {
      "cell_type": "markdown",
      "metadata": {
        "id": "a1_uJWJ3FQ2p",
        "colab_type": "text"
      },
      "source": [
        "# Questão 3 - valor (0,5)\n"
      ]
    },
    {
      "cell_type": "markdown",
      "metadata": {
        "id": "OwBUy5d_FQ2q",
        "colab_type": "text"
      },
      "source": [
        "Utilizando as terminologias de Machine Learning(features e observações):\n",
        "\n"
      ]
    },
    {
      "cell_type": "markdown",
      "metadata": {
        "id": "6Fq8doCuFQ2s",
        "colab_type": "text"
      },
      "source": [
        "3.1 - Quantas \"features\" têm nessa base de dados?"
      ]
    },
    {
      "cell_type": "code",
      "metadata": {
        "id": "UTin76bTFQ2t",
        "colab_type": "code",
        "colab": {}
      },
      "source": [
        ""
      ],
      "execution_count": 0,
      "outputs": []
    },
    {
      "cell_type": "markdown",
      "metadata": {
        "id": "rUnYDZCwFQ2x",
        "colab_type": "text"
      },
      "source": [
        "3.2 - Quantas observações têm nessa base de dados?\n"
      ]
    },
    {
      "cell_type": "code",
      "metadata": {
        "id": "eaNKWfWcFQ2y",
        "colab_type": "code",
        "colab": {}
      },
      "source": [
        ""
      ],
      "execution_count": 0,
      "outputs": []
    },
    {
      "cell_type": "markdown",
      "metadata": {
        "id": "1XU3RCwLFQ22",
        "colab_type": "text"
      },
      "source": [
        "# Questão 4 - valor (1,5)\n"
      ]
    },
    {
      "cell_type": "markdown",
      "metadata": {
        "id": "e8JSKhvRFQ23",
        "colab_type": "text"
      },
      "source": [
        "4.1 - Faça uma previsão, usando o algoritmo de LogisticRegression.\n"
      ]
    },
    {
      "cell_type": "code",
      "metadata": {
        "id": "j6aJ8ogMFQ24",
        "colab_type": "code",
        "colab": {}
      },
      "source": [
        ""
      ],
      "execution_count": 0,
      "outputs": []
    },
    {
      "cell_type": "markdown",
      "metadata": {
        "id": "wOdWbKVHFQ27",
        "colab_type": "text"
      },
      "source": [
        "# Questão 5 - valor (2,0)\n"
      ]
    },
    {
      "cell_type": "markdown",
      "metadata": {
        "id": "iV4GEcQgFQ28",
        "colab_type": "text"
      },
      "source": [
        "Usando o método de avaliação de acurácia (Treinar e testar na base de dados inteira/Train test entire model), Calcular a acurácia de cada um dos 3 métodos abaixo."
      ]
    },
    {
      "cell_type": "markdown",
      "metadata": {
        "id": "wLfLpF8EFQ29",
        "colab_type": "text"
      },
      "source": [
        "4.1 - Acurácia usando o algoritmo de KNN (com 1 vizinho, k=1)\n"
      ]
    },
    {
      "cell_type": "code",
      "metadata": {
        "id": "895f18h6FQ2-",
        "colab_type": "code",
        "colab": {}
      },
      "source": [
        ""
      ],
      "execution_count": 0,
      "outputs": []
    },
    {
      "cell_type": "markdown",
      "metadata": {
        "id": "JWLisp6yFQ3B",
        "colab_type": "text"
      },
      "source": [
        "4.2 - Acurácia usando o algoritmo de KNN (com 5 vizinho, k=5)\n"
      ]
    },
    {
      "cell_type": "code",
      "metadata": {
        "id": "W1K_uk1qFQ3C",
        "colab_type": "code",
        "colab": {}
      },
      "source": [
        ""
      ],
      "execution_count": 0,
      "outputs": []
    },
    {
      "cell_type": "markdown",
      "metadata": {
        "id": "JDF8PM_8FQ3F",
        "colab_type": "text"
      },
      "source": [
        "4.3 - Acurácia usando o algoritmo de LogisticRegression\n"
      ]
    },
    {
      "cell_type": "code",
      "metadata": {
        "id": "dC7Ib97OFQ3G",
        "colab_type": "code",
        "colab": {}
      },
      "source": [
        ""
      ],
      "execution_count": 0,
      "outputs": []
    },
    {
      "cell_type": "markdown",
      "metadata": {
        "id": "qut1PJTRFQ3J",
        "colab_type": "text"
      },
      "source": [
        "4.4 - De acordo com seus resultados anteriores, qual dos 3 métodos é mais eficiente?\n"
      ]
    },
    {
      "cell_type": "code",
      "metadata": {
        "id": "Rw4XpTTbFQ3K",
        "colab_type": "code",
        "colab": {}
      },
      "source": [
        ""
      ],
      "execution_count": 0,
      "outputs": []
    },
    {
      "cell_type": "code",
      "metadata": {
        "id": "UQ1ORkwqFQ3N",
        "colab_type": "code",
        "colab": {}
      },
      "source": [
        "*** Envie o link do seu Github com essa resposta no Classroom\n"
      ],
      "execution_count": 0,
      "outputs": []
    }
  ]
}